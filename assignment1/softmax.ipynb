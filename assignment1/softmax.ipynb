{
 "cells": [
  {
   "cell_type": "markdown",
   "metadata": {},
   "source": [
    "# Softmax exercise\n",
    "\n",
    "*Complete and hand in this completed worksheet (including its outputs and any supporting code outside of the worksheet) with your assignment submission. For more details see the [assignments page](http://vision.stanford.edu/teaching/cs231n/assignments.html) on the course website.*\n",
    "\n",
    "This exercise is analogous to the SVM exercise. You will:\n",
    "\n",
    "- implement a fully-vectorized **loss function** for the Softmax classifier\n",
    "- implement the fully-vectorized expression for its **analytic gradient**\n",
    "- **check your implementation** with numerical gradient\n",
    "- use a validation set to **tune the learning rate and regularization** strength\n",
    "- **optimize** the loss function with **SGD**\n",
    "- **visualize** the final learned weights\n"
   ]
  },
  {
   "cell_type": "code",
   "execution_count": 2,
   "metadata": {
    "collapsed": true
   },
   "outputs": [],
   "source": [
    "import random\n",
    "import numpy as np\n",
    "from cs231n.data_utils import load_CIFAR10\n",
    "import matplotlib.pyplot as plt\n",
    "\n",
    "from __future__ import print_function\n",
    "\n",
    "%matplotlib inline\n",
    "plt.rcParams['figure.figsize'] = (10.0, 8.0) # set default size of plots\n",
    "plt.rcParams['image.interpolation'] = 'nearest'\n",
    "plt.rcParams['image.cmap'] = 'gray'\n",
    "\n",
    "# for auto-reloading extenrnal modules\n",
    "# see http://stackoverflow.com/questions/1907993/autoreload-of-modules-in-ipython\n",
    "%load_ext autoreload\n",
    "%autoreload 2"
   ]
  },
  {
   "cell_type": "code",
   "execution_count": 9,
   "metadata": {},
   "outputs": [
    {
     "name": "stdout",
     "output_type": "stream",
     "text": [
      "Train data shape:  (49000, 3073)\n",
      "Train labels shape:  (49000,)\n",
      "Validation data shape:  (1000, 3073)\n",
      "Validation labels shape:  (1000,)\n",
      "Test data shape:  (1000, 3073)\n",
      "Test labels shape:  (1000,)\n",
      "dev data shape:  (500, 3073)\n",
      "dev labels shape:  (500,)\n"
     ]
    }
   ],
   "source": [
    "def get_CIFAR10_data(num_training=49000, num_validation=1000, num_test=1000, num_dev=500):\n",
    "    \"\"\"\n",
    "    Load the CIFAR-10 dataset from disk and perform preprocessing to prepare\n",
    "    it for the linear classifier. These are the same steps as we used for the\n",
    "    SVM, but condensed to a single function.  \n",
    "    \"\"\"\n",
    "    # Load the raw CIFAR-10 data\n",
    "    cifar10_dir = 'cs231n/datasets/cifar-10-batches-py'\n",
    "    X_train, y_train, X_test, y_test = load_CIFAR10(cifar10_dir)\n",
    "    \n",
    "    # subsample the data\n",
    "    mask = list(range(num_training, num_training + num_validation))\n",
    "    X_val = X_train[mask]\n",
    "    y_val = y_train[mask]\n",
    "    mask = list(range(num_training))\n",
    "    X_train = X_train[mask]\n",
    "    y_train = y_train[mask]\n",
    "    mask = list(range(num_test))\n",
    "    X_test = X_test[mask]\n",
    "    y_test = y_test[mask]\n",
    "    mask = np.random.choice(num_training, num_dev, replace=False)\n",
    "    X_dev = X_train[mask]\n",
    "    y_dev = y_train[mask]\n",
    "    \n",
    "    # Preprocessing: reshape the image data into rows\n",
    "    X_train = np.reshape(X_train, (X_train.shape[0], -1)) #X_train.shape[0] x 3072\n",
    "    X_val = np.reshape(X_val, (X_val.shape[0], -1))\n",
    "    X_test = np.reshape(X_test, (X_test.shape[0], -1))\n",
    "    X_dev = np.reshape(X_dev, (X_dev.shape[0], -1))\n",
    "    \n",
    "    # Normalize the data: subtract the mean image\n",
    "    mean_image = np.mean(X_train, axis = 0) # mean of each column\n",
    "    X_train -= mean_image\n",
    "    X_val -= mean_image\n",
    "    X_test -= mean_image\n",
    "    X_dev -= mean_image\n",
    "    \n",
    "    # add bias dimension and transform into columns\n",
    "    X_train = np.hstack([X_train, np.ones((X_train.shape[0], 1))])\n",
    "    X_val = np.hstack([X_val, np.ones((X_val.shape[0], 1))])\n",
    "    X_test = np.hstack([X_test, np.ones((X_test.shape[0], 1))])\n",
    "    X_dev = np.hstack([X_dev, np.ones((X_dev.shape[0], 1))])\n",
    "    \n",
    "    return X_train, y_train, X_val, y_val, X_test, y_test, X_dev, y_dev\n",
    "\n",
    "\n",
    "# Invoke the above function to get our data.\n",
    "X_train, y_train, X_val, y_val, X_test, y_test, X_dev, y_dev = get_CIFAR10_data()\n",
    "print('Train data shape: ', X_train.shape)\n",
    "print('Train labels shape: ', y_train.shape)\n",
    "print('Validation data shape: ', X_val.shape)\n",
    "print('Validation labels shape: ', y_val.shape)\n",
    "print('Test data shape: ', X_test.shape)\n",
    "print('Test labels shape: ', y_test.shape)\n",
    "print('dev data shape: ', X_dev.shape)\n",
    "print('dev labels shape: ', y_dev.shape)"
   ]
  },
  {
   "cell_type": "markdown",
   "metadata": {},
   "source": [
    "## Softmax Classifier\n",
    "\n",
    "Your code for this section will all be written inside **cs231n/classifiers/softmax.py**. \n"
   ]
  },
  {
   "cell_type": "code",
   "execution_count": 10,
   "metadata": {},
   "outputs": [
    {
     "name": "stdout",
     "output_type": "stream",
     "text": [
      "loss: 2.373022\n",
      "sanity check: 2.302585\n"
     ]
    }
   ],
   "source": [
    "# First implement the naive softmax loss function with nested loops.\n",
    "# Open the file cs231n/classifiers/softmax.py and implement the\n",
    "# softmax_loss_naive function.\n",
    "\n",
    "from cs231n.classifiers.softmax import softmax_loss_naive\n",
    "import time\n",
    "\n",
    "# Generate a random softmax weight matrix and use it to compute the loss.\n",
    "W = np.random.randn(3073, 10) * 0.0001\n",
    "loss, grad = softmax_loss_naive(W, X_dev, y_dev, 0.0)\n",
    "\n",
    "# As a rough sanity check, our loss should be something close to -log(0.1).\n",
    "print('loss: %f' % loss)\n",
    "print('sanity check: %f' % (-np.log(0.1)))"
   ]
  },
  {
   "cell_type": "markdown",
   "metadata": {},
   "source": [
    "## Inline Question 1:\n",
    "Why do we expect our loss to be close to -log(0.1)? Explain briefly.**\n",
    "\n",
    "**Your answer:** \n",
    "*Because totally we have 10 classes and the total probability should be 1, therefore we expect P(Y=y_i|X=x_i) = 0.1.\n",
    "And for -log we aim to represent the loss.\n",
    "*\n"
   ]
  },
  {
   "cell_type": "code",
   "execution_count": 11,
   "metadata": {},
   "outputs": [
    {
     "name": "stdout",
     "output_type": "stream",
     "text": [
      "numerical: -1.761337 analytic: -1.761337, relative error: 2.084612e-08\n",
      "numerical: -0.705803 analytic: -0.705803, relative error: 2.014259e-08\n",
      "numerical: -0.512621 analytic: -0.512621, relative error: 4.332226e-08\n",
      "numerical: 1.278587 analytic: 1.278587, relative error: 3.177887e-09\n",
      "numerical: 0.430337 analytic: 0.430337, relative error: 1.413526e-07\n",
      "numerical: -1.835849 analytic: -1.835849, relative error: 6.240425e-09\n",
      "numerical: -0.217585 analytic: -0.217585, relative error: 2.156584e-07\n",
      "numerical: 1.550937 analytic: 1.550937, relative error: 5.240915e-09\n",
      "numerical: -0.805069 analytic: -0.805069, relative error: 2.672984e-08\n",
      "numerical: 0.638091 analytic: 0.638091, relative error: 9.629134e-10\n",
      "numerical: 1.469616 analytic: 1.469616, relative error: 1.669132e-08\n",
      "numerical: 0.660611 analytic: 0.660611, relative error: 1.019721e-07\n",
      "numerical: 0.580689 analytic: 0.580689, relative error: 9.670219e-09\n",
      "numerical: 1.153275 analytic: 1.153275, relative error: 3.364442e-08\n",
      "numerical: 0.297237 analytic: 0.297236, relative error: 1.525992e-07\n",
      "numerical: 0.532744 analytic: 0.532744, relative error: 6.528886e-08\n",
      "numerical: -1.727479 analytic: -1.727479, relative error: 1.694474e-08\n",
      "numerical: 0.982330 analytic: 0.982330, relative error: 2.918774e-09\n",
      "numerical: 0.039636 analytic: 0.039635, relative error: 1.033494e-06\n",
      "numerical: -1.590668 analytic: -1.590668, relative error: 1.011412e-08\n"
     ]
    }
   ],
   "source": [
    "# Complete the implementation of softmax_loss_naive and implement a (naive)\n",
    "# version of the gradient that uses nested loops.\n",
    "loss, grad = softmax_loss_naive(W, X_dev, y_dev, 0.0)\n",
    "\n",
    "# As we did for the SVM, use numeric gradient checking as a debugging tool.\n",
    "# The numeric gradient should be close to the analytic gradient.\n",
    "from cs231n.gradient_check import grad_check_sparse\n",
    "f = lambda w: softmax_loss_naive(w, X_dev, y_dev, 0.0)[0]\n",
    "grad_numerical = grad_check_sparse(f, W, grad, 10)\n",
    "\n",
    "# similar to SVM case, do another gradient check with regularization\n",
    "loss, grad = softmax_loss_naive(W, X_dev, y_dev, 5e1)\n",
    "f = lambda w: softmax_loss_naive(w, X_dev, y_dev, 5e1)[0]\n",
    "grad_numerical = grad_check_sparse(f, W, grad, 10)"
   ]
  },
  {
   "cell_type": "code",
   "execution_count": 12,
   "metadata": {},
   "outputs": [
    {
     "name": "stdout",
     "output_type": "stream",
     "text": [
      "naive loss: 2.373022e+00 computed in 0.083219s\n",
      "vectorized loss: 2.373022e+00 computed in 0.007021s\n",
      "Loss difference: 0.000000\n",
      "Gradient difference: 0.000000\n"
     ]
    }
   ],
   "source": [
    "# Now that we have a naive implementation of the softmax loss function and its gradient,\n",
    "# implement a vectorized version in softmax_loss_vectorized.\n",
    "# The two versions should compute the same results, but the vectorized version should be\n",
    "# much faster.\n",
    "tic = time.time()\n",
    "loss_naive, grad_naive = softmax_loss_naive(W, X_dev, y_dev, 0.000005)\n",
    "toc = time.time()\n",
    "print('naive loss: %e computed in %fs' % (loss_naive, toc - tic))\n",
    "\n",
    "from cs231n.classifiers.softmax import softmax_loss_vectorized\n",
    "tic = time.time()\n",
    "loss_vectorized, grad_vectorized = softmax_loss_vectorized(W, X_dev, y_dev, 0.000005)\n",
    "toc = time.time()\n",
    "print('vectorized loss: %e computed in %fs' % (loss_vectorized, toc - tic))\n",
    "\n",
    "# As we did for the SVM, we use the Frobenius norm to compare the two versions\n",
    "# of the gradient.\n",
    "grad_difference = np.linalg.norm(grad_naive - grad_vectorized, ord='fro')\n",
    "print('Loss difference: %f' % np.abs(loss_naive - loss_vectorized))\n",
    "print('Gradient difference: %f' % grad_difference)"
   ]
  },
  {
   "cell_type": "code",
   "execution_count": 13,
   "metadata": {},
   "outputs": [
    {
     "name": "stdout",
     "output_type": "stream",
     "text": [
      "iteration 0 / 1500: loss 386.250240\n",
      "iteration 100 / 1500: loss 233.331181\n",
      "iteration 200 / 1500: loss 141.658717\n",
      "iteration 300 / 1500: loss 86.377513\n",
      "iteration 400 / 1500: loss 53.018012\n",
      "iteration 500 / 1500: loss 32.969699\n",
      "iteration 600 / 1500: loss 20.697358\n",
      "iteration 700 / 1500: loss 13.335769\n",
      "iteration 800 / 1500: loss 8.773397\n",
      "iteration 900 / 1500: loss 6.193208\n",
      "iteration 1000 / 1500: loss 4.545107\n",
      "iteration 1100 / 1500: loss 3.536481\n",
      "iteration 1200 / 1500: loss 2.980097\n",
      "iteration 1300 / 1500: loss 2.618637\n",
      "iteration 1400 / 1500: loss 2.435370\n",
      "iteration 0 / 1500: loss 773.852875\n",
      "iteration 100 / 1500: loss 284.309770\n",
      "iteration 200 / 1500: loss 105.255543\n",
      "iteration 300 / 1500: loss 39.863137\n",
      "iteration 400 / 1500: loss 15.986328\n",
      "iteration 500 / 1500: loss 7.159585\n",
      "iteration 600 / 1500: loss 3.927878\n",
      "iteration 700 / 1500: loss 2.778273\n",
      "iteration 800 / 1500: loss 2.380113\n",
      "iteration 900 / 1500: loss 2.206806\n",
      "iteration 1000 / 1500: loss 2.144075\n",
      "iteration 1100 / 1500: loss 2.125917\n",
      "iteration 1200 / 1500: loss 2.064362\n",
      "iteration 1300 / 1500: loss 2.096218\n",
      "iteration 1400 / 1500: loss 2.065241\n",
      "iteration 0 / 1500: loss 390.658075\n",
      "iteration 100 / 1500: loss 32.793498\n",
      "iteration 200 / 1500: loss 4.567759\n",
      "iteration 300 / 1500: loss 2.220312\n",
      "iteration 400 / 1500: loss 2.122127\n",
      "iteration 500 / 1500: loss 2.037327\n",
      "iteration 600 / 1500: loss 2.059334\n",
      "iteration 700 / 1500: loss 2.018520\n",
      "iteration 800 / 1500: loss 2.073713\n",
      "iteration 900 / 1500: loss 2.051187\n",
      "iteration 1000 / 1500: loss 2.074912\n",
      "iteration 1100 / 1500: loss 1.992103\n",
      "iteration 1200 / 1500: loss 1.967050\n",
      "iteration 1300 / 1500: loss 2.130052\n",
      "iteration 1400 / 1500: loss 1.994293\n",
      "iteration 0 / 1500: loss 777.703048\n",
      "iteration 100 / 1500: loss 6.955193\n",
      "iteration 200 / 1500: loss 2.084518\n",
      "iteration 300 / 1500: loss 2.099173\n",
      "iteration 400 / 1500: loss 2.102509\n",
      "iteration 500 / 1500: loss 2.106151\n",
      "iteration 600 / 1500: loss 2.070572\n",
      "iteration 700 / 1500: loss 2.130832\n",
      "iteration 800 / 1500: loss 2.179295\n",
      "iteration 900 / 1500: loss 2.143297\n",
      "iteration 1000 / 1500: loss 2.096384\n",
      "iteration 1100 / 1500: loss 2.083160\n",
      "iteration 1200 / 1500: loss 2.184223\n",
      "iteration 1300 / 1500: loss 2.107814\n",
      "iteration 1400 / 1500: loss 2.044217\n",
      "lr 1.000000e-07 reg 2.500000e+04 train accuracy: 0.347122 val accuracy: 0.367000\n",
      "lr 1.000000e-07 reg 5.000000e+04 train accuracy: 0.328531 val accuracy: 0.337000\n",
      "lr 5.000000e-07 reg 2.500000e+04 train accuracy: 0.347959 val accuracy: 0.356000\n",
      "lr 5.000000e-07 reg 5.000000e+04 train accuracy: 0.330449 val accuracy: 0.344000\n",
      "best validation accuracy achieved during cross-validation: 0.367000\n"
     ]
    }
   ],
   "source": [
    "# Use the validation set to tune hyperparameters (regularization strength and\n",
    "# learning rate). You should experiment with different ranges for the learning\n",
    "# rates and regularization strengths; if you are careful you should be able to\n",
    "# get a classification accuracy of over 0.35 on the validation set.\n",
    "from cs231n.classifiers import Softmax\n",
    "results = {}\n",
    "best_val = -1\n",
    "best_softmax = None\n",
    "learning_rates = [1e-7, 5e-7]\n",
    "regularization_strengths = [2.5e4, 5e4]\n",
    "\n",
    "################################################################################\n",
    "# TODO:                                                                        #\n",
    "# Use the validation set to set the learning rate and regularization strength. #\n",
    "# This should be identical to the validation that you did for the SVM; save    #\n",
    "# the best trained softmax classifer in best_softmax.                          #\n",
    "################################################################################\n",
    "#pass\n",
    "for lr in learning_rates:\n",
    "    for reg_s in regularization_strengths:\n",
    "        softmax = Softmax()\n",
    "        loss_hist = softmax.train(X_train, y_train, learning_rate=lr, reg=reg_s,\n",
    "                      num_iters=1500, verbose=True)\n",
    "        y_train_pred = softmax.predict(X_train)\n",
    "        y_val_pred = softmax.predict(X_val)\n",
    "        \n",
    "        train_accuracy = np.sum(y_train_pred == y_train)/y_train.shape[0]\n",
    "        val_accuracy = np.sum(y_val_pred == y_val)/y_val.shape[0]\n",
    "        \n",
    "        results[(lr,reg_s)] = (train_accuracy, val_accuracy)\n",
    "        \n",
    "        if best_val < val_accuracy:\n",
    "            best_val = val_accuracy\n",
    "            best_softmax = softmax\n",
    "        \n",
    "################################################################################\n",
    "#                              END OF YOUR CODE                                #\n",
    "################################################################################\n",
    "    \n",
    "# Print out results.\n",
    "for lr, reg in sorted(results):\n",
    "    train_accuracy, val_accuracy = results[(lr, reg)]\n",
    "    print('lr %e reg %e train accuracy: %f val accuracy: %f' % (\n",
    "                lr, reg, train_accuracy, val_accuracy))\n",
    "    \n",
    "print('best validation accuracy achieved during cross-validation: %f' % best_val)"
   ]
  },
  {
   "cell_type": "code",
   "execution_count": null,
   "metadata": {
    "collapsed": true
   },
   "outputs": [],
   "source": [
    "# evaluate on test set\n",
    "# Evaluate the best softmax on test set\n",
    "y_test_pred = best_softmax.predict(X_test)\n",
    "test_accuracy = np.mean(y_test == y_test_pred)\n",
    "print('softmax on raw pixels final test set accuracy: %f' % (test_accuracy, ))"
   ]
  },
  {
   "cell_type": "code",
   "execution_count": null,
   "metadata": {
    "collapsed": true
   },
   "outputs": [],
   "source": [
    "# Visualize the learned weights for each class\n",
    "w = best_softmax.W[:-1,:] # strip out the bias\n",
    "w = w.reshape(32, 32, 3, 10)\n",
    "\n",
    "w_min, w_max = np.min(w), np.max(w)\n",
    "\n",
    "classes = ['plane', 'car', 'bird', 'cat', 'deer', 'dog', 'frog', 'horse', 'ship', 'truck']\n",
    "for i in range(10):\n",
    "    plt.subplot(2, 5, i + 1)\n",
    "    \n",
    "    # Rescale the weights to be between 0 and 255\n",
    "    wimg = 255.0 * (w[:, :, :, i].squeeze() - w_min) / (w_max - w_min)\n",
    "    plt.imshow(wimg.astype('uint8'))\n",
    "    plt.axis('off')\n",
    "    plt.title(classes[i])"
   ]
  }
 ],
 "metadata": {
  "kernelspec": {
   "display_name": "Python 3",
   "language": "python",
   "name": "python3"
  },
  "language_info": {
   "codemirror_mode": {
    "name": "ipython",
    "version": 3
   },
   "file_extension": ".py",
   "mimetype": "text/x-python",
   "name": "python",
   "nbconvert_exporter": "python",
   "pygments_lexer": "ipython3",
   "version": "3.5.3"
  }
 },
 "nbformat": 4,
 "nbformat_minor": 1
}
