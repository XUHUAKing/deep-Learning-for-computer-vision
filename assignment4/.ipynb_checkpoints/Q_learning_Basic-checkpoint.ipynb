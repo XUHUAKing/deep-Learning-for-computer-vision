{
 "cells": [
  {
   "cell_type": "markdown",
   "metadata": {},
   "source": [
    "# Basic Q-Learning Algorithms\n",
    "In this exercise we are going be exploring a family of RL algorithms called Q-Learning algorithms. You will begin by implementing a simple lookup-table version of the algorithm, and then a neural-network equivalent using Tensorflow."
   ]
  },
  {
   "cell_type": "code",
   "execution_count": 2,
   "metadata": {
    "collapsed": true
   },
   "outputs": [],
   "source": [
    "import numpy as np\n",
    "import random\n",
    "import matplotlib.pyplot as plt\n",
    "%matplotlib inline"
   ]
  },
  {
   "cell_type": "markdown",
   "metadata": {},
   "source": [
    "## OpenAI Gym Environment\n",
    "For this exercise we will use the [FrozenLake](https://gym.openai.com/envs/FrozenLake-v0) environment from the [OpenAI gym](https://gym.openai.com) as a toy example. For those unfamiliar, the OpenAI gym provides an easy way for people to experiment with their learning agents in an array of provided toy games. The FrozenLake environment consists of a `4 x 4` grid of blocks, each one either being the start block `S`, the goal block `G`, a safe frozen block `F`, or a dangerous hole `H`. The objective is to have an agent learn to navigate from the start to the goal without moving onto a hole. At any given time the agent can choose to move either up, down, left, or right. The catch is that there is a wind which occasionally blows the agent onto a space they didn’t choose. As such, perfect performance every time is impossible, but learning to avoid the holes and reach the goal are certainly still doable. The reward at every step is 0, except for entering the goal, which provides a reward of 1. Thus, we will need an algorithm that learns long-term expected rewards. This is exactly what Q-Learning is designed to provide."
   ]
  },
  {
   "cell_type": "markdown",
   "metadata": {},
   "source": [
    "## Install OpenAI Gym\n",
    "To install the OpenAI gym, simply use  `pip install gym`  to grab it."
   ]
  },
  {
   "cell_type": "markdown",
   "metadata": {},
   "source": [
    "## Load the environment"
   ]
  },
  {
   "cell_type": "code",
   "execution_count": 3,
   "metadata": {
    "collapsed": true,
    "scrolled": false
   },
   "outputs": [],
   "source": [
    "import gym\n",
    "env = gym.make('FrozenLake-v0')"
   ]
  },
  {
   "cell_type": "markdown",
   "metadata": {},
   "source": [
    "For more information, please refer to [OpenAI documentation](https://gym.openai.com/docs)"
   ]
  },
  {
   "cell_type": "markdown",
   "metadata": {},
   "source": [
    "## Part 1 - Q-Table learning algorithm\n",
    "In it’s simplest implementation, Q-Learning is a table of values for every state (row) and action (column) possible in the environment. Within each cell of the table, we learn a value for how good it is to take a given action within a given state. In the case of the FrozenLake environment, we have 16 possible states (one for each block), and 4 possible actions (the four directions of movement), giving us a 16 x 4 table of Q-values. We start by initializing the table to be uniform (all zeros), and then as we observe the rewards we obtain for various actions, we update the table accordingly.\n",
    "\n",
    "We make updates to our Q-table using something called the [Bellman equation](https://en.wikipedia.org/wiki/Bellman_equation), which states that the expected long-term reward for a given action is equal to the immediate reward from the current action combined with the expected reward from the best future action taken at the following state. In equation form, the rule looks like this (Equation 1):\n",
    "$$ Q(s,a) = r + γ(\\max(Q(s’,a’)) $$"
   ]
  },
  {
   "cell_type": "markdown",
   "metadata": {},
   "source": [
    "This says that the Q-value for a given state ($s$) and action ($a$) should represent the current reward ($r$) plus the maximum discounted ($\\lambda$) future reward expected according to our own table for the next state ($s'$) we would end up in."
   ]
  },
  {
   "cell_type": "code",
   "execution_count": 4,
   "metadata": {
    "collapsed": true,
    "scrolled": true
   },
   "outputs": [],
   "source": [
    "#Initialize table, with states as rows and actions (up, down, left, or right) as columns \n",
    "Q = np.zeros([env.observation_space.n,env.action_space.n])\n",
    "#Set learning parameters\n",
    "lr = .8\n",
    "#Set discounted factor\n",
    "y = .95\n",
    "#Set parameter of trial times\n",
    "k = 1.0\n",
    "num_episodes = 2000\n",
    "#create lists to contain total rewards and steps per episode\n",
    "rList = []\n",
    "for i in range(num_episodes):\n",
    "    #Reset environment and get first new observation\n",
    "    s = env.reset() #s is observation, which is state here\n",
    "    #Total reward in one episode\n",
    "    rAll = 0\n",
    "    d = False\n",
    "    j = 0\n",
    "    while j < 99:\n",
    "        j+=1\n",
    "        ###############################################################################\n",
    "        # TODO: Implement the Q-Table learning algorithm.                             #\n",
    "        # You will need to do the following:                                          #\n",
    "        # (1) Choose an action by greedily (with noise) picking from Q table given s  #\n",
    "        #     as input.                                                               #\n",
    "        # (2) Get new state s1, reward r and done d from environment                  #\n",
    "        # (3) Update Q-Table with new knowledge.                                      #\n",
    "        # (4) Cumulate the total reward rAll                                          #\n",
    "        # (5) Update s                                                                #\n",
    "        # Note: You may use the gym interfaces env.action_space, env.step etc.        #\n",
    "        #       E.g. observation, reward, done, info = env.step(action)               #\n",
    "        #       Please refer to the docs for more information.                        #\n",
    "        #       For (1), consider adding noise as a mean of encouraging exploration.  #\n",
    "        #       For (3), calculate the new target Q-value using Bellman equation.     #\n",
    "        #       Instead of directly updating toward it, we take a small step in the   #\n",
    "        #       direction that will make the Q value closer to the target, i.e. use   #\n",
    "        #       learning rate that controls how much of the difference between        #\n",
    "        #       newly proposed Q-value and previous Q-value                           #\n",
    "        ###############################################################################\n",
    "        action = np.argmax(Q[s,:] + np.random.randn(1,env.action_space.n)*(1./(i+1)))#wind\n",
    "        #Get new state s1, reward r and done d from environment \n",
    "        s1, r, d, _ = env.step(action)\n",
    "        #Update Q-Table with new knowledge\n",
    "        sample = r + y*np.max(Q[s1,:])\n",
    "        Q[s, action] = (1-lr)*Q[s, action] + lr*sample\n",
    "        #Cumulate the total reward rAll \n",
    "        rAll += r\n",
    "        #Update s\n",
    "        s = s1 \n",
    "        ##############################################################################\n",
    "        #                             END OF YOUR CODE                               #\n",
    "        ##############################################################################\n",
    "        \n",
    "        #end of one episode\n",
    "        if d == True:\n",
    "            break\n",
    "    rList.append(rAll)"
   ]
  },
  {
   "cell_type": "markdown",
   "metadata": {},
   "source": [
    "The score is around 0.5 after 2000 episodes."
   ]
  },
  {
   "cell_type": "code",
   "execution_count": 5,
   "metadata": {
    "scrolled": true
   },
   "outputs": [
    {
     "name": "stdout",
     "output_type": "stream",
     "text": [
      "Score over time: 0.523\n"
     ]
    }
   ],
   "source": [
    "print(\"Score over time: \" +  str(sum(rList)/num_episodes))"
   ]
  },
  {
   "cell_type": "code",
   "execution_count": 6,
   "metadata": {},
   "outputs": [
    {
     "name": "stdout",
     "output_type": "stream",
     "text": [
      "Final Q-Table Values\n",
      "[[  2.05644791e-01   3.22297601e-03   8.81733479e-03   2.20129064e-03]\n",
      " [  3.59562725e-04   1.79901155e-03   4.81627261e-04   1.84640328e-01]\n",
      " [  1.18024595e-01   3.15080802e-04   3.80608211e-03   3.37619287e-03]\n",
      " [  8.11376133e-04   2.74684066e-03   0.00000000e+00   2.67281935e-03]\n",
      " [  2.18313377e-01   3.79558964e-03   1.34326878e-03   8.14684090e-06]\n",
      " [  0.00000000e+00   0.00000000e+00   0.00000000e+00   0.00000000e+00]\n",
      " [  1.03522165e-01   1.44475970e-05   8.64509736e-05   5.33324579e-04]\n",
      " [  0.00000000e+00   0.00000000e+00   0.00000000e+00   0.00000000e+00]\n",
      " [  2.08151785e-03   3.21750477e-04   3.31614679e-03   3.72549343e-01]\n",
      " [  0.00000000e+00   6.03593453e-01   0.00000000e+00   0.00000000e+00]\n",
      " [  3.30636747e-01   0.00000000e+00   0.00000000e+00   1.32812056e-03]\n",
      " [  0.00000000e+00   0.00000000e+00   0.00000000e+00   0.00000000e+00]\n",
      " [  0.00000000e+00   0.00000000e+00   0.00000000e+00   0.00000000e+00]\n",
      " [  0.00000000e+00   0.00000000e+00   5.88257160e-01   0.00000000e+00]\n",
      " [  0.00000000e+00   0.00000000e+00   8.47313972e-01   0.00000000e+00]\n",
      " [  0.00000000e+00   0.00000000e+00   0.00000000e+00   0.00000000e+00]]\n"
     ]
    }
   ],
   "source": [
    "print(\"Final Q-Table Values\")\n",
    "print(Q)"
   ]
  },
  {
   "cell_type": "code",
   "execution_count": 7,
   "metadata": {},
   "outputs": [
    {
     "name": "stdout",
     "output_type": "stream",
     "text": [
      "  (Right)\n",
      "SFFF\n",
      "FHFH\n",
      "FFFH\n",
      "HFF\u001b[41mG\u001b[0m\n"
     ]
    }
   ],
   "source": [
    "# print out the 4 x 4 grid and the current position of the agent\n",
    "env.render()"
   ]
  },
  {
   "cell_type": "markdown",
   "metadata": {},
   "source": [
    "## Inline Question 1:\n",
    "In TODO(3), why not directly apply the Bellman equation for updating the Q value? (in this case lr = 1 and why?)\n",
    "\n",
    "**Your answer:** *The bellman equation is actually accurate when the optimal Q-values have been reached. What we want to do is similar to gradient descent, we would do small step in the direction that make the Q value towards the desired one (r + gamma\n",
    "(max(s', a'))), in order to avoid noises and inaccurate Q value in the beginning or during the training where the bellman equation may not be completely reliable.*"
   ]
  },
  {
   "cell_type": "markdown",
   "metadata": {},
   "source": [
    "## Inline Question 2:\n",
    "An optimal Q table will tell you the true expected discounted reward for any action given any state. If you find the maximum value of the learned table is not what you believe it should be, do you think it still make sense? Explain briefly.**\n",
    "\n",
    "**Your answer:** *Yes it still makes sense. Because Q-learning really relies on the states and actions it explored during training. If during a training, when the agent executing the policy you believe it should be, it always fell into hole and got a negative reward unfortunately, the particular Q-values related to this policy would be \"bad\" which is out of your expectation. \n",
    "Or if the real optimal solution wasn't explored well during training, the Q-values in optimal policy may also be inaccurate. But this is a possible case in Q-Learning because it may be impossible to explore all cases, so it makes sense.*"
   ]
  },
  {
   "cell_type": "markdown",
   "metadata": {
    "collapsed": true
   },
   "source": [
    "## Part 2 - Q-Network Approach\n",
    "While it is easy to have a 16x4 table for a simple grid world, the number of possible states in any modern game or real-world environment is nearly infinitely larger. For most interesting problems, tables simply don’t work. We instead need some way to take a description of our state, and produce Q-values for actions without a table: that is where neural networks come in. By acting as a function approximator, we can take any number of possible states that can be represented as a vector and learn to map them to Q-values."
   ]
  },
  {
   "cell_type": "markdown",
   "metadata": {},
   "source": [
    "In the case of the FrozenLake example, we will be using a one-layer network which takes the state encoded in a one-hot vector `(1x16)`, and produces a vector of 4 Q-values, one for each action. Such a simple network acts kind of like a glorified table, with the network weights serving as the old cells. The key difference is that we can easily expand the Tensorflow network with added layers, activation functions, and different input types, whereas all that is impossible with a regular table. The method of updating is a little different as well. Instead of directly updating our table, with a network we will be using backpropagation and a loss function. Our loss function will be sum-of-squares loss, where the difference between the current predicted Q-values, and the “target” value is computed and the gradients passed through the network. **In this case, our Q-target value for the chosen action is the equivalent to the Q-value computed in equation 1 above.**"
   ]
  },
  {
   "cell_type": "markdown",
   "metadata": {},
   "source": [
    "### Implementing the network itself"
   ]
  },
  {
   "cell_type": "code",
   "execution_count": 8,
   "metadata": {
    "collapsed": true
   },
   "outputs": [],
   "source": [
    "import tensorflow as tf\n",
    "env = gym.make('FrozenLake-v0')\n",
    "tf.reset_default_graph()"
   ]
  },
  {
   "cell_type": "code",
   "execution_count": 9,
   "metadata": {
    "collapsed": true
   },
   "outputs": [],
   "source": [
    "#These lines establish the feed-forward part of the network used to choose actions\n",
    "inputs1 = tf.placeholder(shape=[1,16],dtype=tf.float32)#one-hot vector with size of 1x16 for a state\n",
    "W = tf.Variable(tf.random_uniform([16,4],0,0.01))\n",
    "Qout = tf.matmul(inputs1,W)\n",
    "predict = tf.argmax(Qout,1)\n",
    "\n",
    "#Below we obtain the loss by taking the sum of squares difference between the target and prediction Q values.\n",
    "nextQ = tf.placeholder(shape=[1,4],dtype=tf.float32)\n",
    "loss = tf.reduce_sum(tf.square(nextQ - Qout))\n",
    "trainer = tf.train.GradientDescentOptimizer(learning_rate=0.1)\n",
    "updateModel = trainer.minimize(loss)"
   ]
  },
  {
   "cell_type": "markdown",
   "metadata": {},
   "source": [
    "### Training the network"
   ]
  },
  {
   "cell_type": "code",
   "execution_count": 11,
   "metadata": {},
   "outputs": [
    {
     "name": "stdout",
     "output_type": "stream",
     "text": [
      "Episode 9 reward: 0.1\n",
      "Episode 19 reward: 0.0\n",
      "Episode 29 reward: 0.0\n",
      "Episode 39 reward: 0.1\n",
      "Episode 49 reward: 0.0\n",
      "Episode 59 reward: 0.0\n",
      "Episode 69 reward: 0.0\n",
      "Episode 79 reward: 0.0\n",
      "Episode 89 reward: 0.0\n",
      "Episode 99 reward: 0.0\n",
      "Episode 109 reward: 0.0\n",
      "Episode 119 reward: 0.0\n",
      "Episode 129 reward: 0.0\n",
      "Episode 139 reward: 0.0\n",
      "Episode 149 reward: 0.0\n",
      "Episode 159 reward: 0.0\n",
      "Episode 169 reward: 0.0\n",
      "Episode 179 reward: 0.1\n",
      "Episode 189 reward: 0.0\n",
      "Episode 199 reward: 0.0\n",
      "Episode 209 reward: 0.0\n",
      "Episode 219 reward: 0.0\n",
      "Episode 229 reward: 0.0\n",
      "Episode 239 reward: 0.0\n",
      "Episode 249 reward: 0.0\n",
      "Episode 259 reward: 0.0\n",
      "Episode 269 reward: 0.0\n",
      "Episode 279 reward: 0.0\n",
      "Episode 289 reward: 0.0\n",
      "Episode 299 reward: 0.0\n",
      "Episode 309 reward: 0.0\n",
      "Episode 319 reward: 0.0\n",
      "Episode 329 reward: 0.2\n",
      "Episode 339 reward: 0.0\n",
      "Episode 349 reward: 0.0\n",
      "Episode 359 reward: 0.1\n",
      "Episode 369 reward: 0.0\n",
      "Episode 379 reward: 0.0\n",
      "Episode 389 reward: 0.0\n",
      "Episode 399 reward: 0.0\n",
      "Episode 409 reward: 0.0\n",
      "Episode 419 reward: 0.1\n",
      "Episode 429 reward: 0.1\n",
      "Episode 439 reward: 0.0\n",
      "Episode 449 reward: 0.0\n",
      "Episode 459 reward: 0.0\n",
      "Episode 469 reward: 0.0\n",
      "Episode 479 reward: 0.0\n",
      "Episode 489 reward: 0.0\n",
      "Episode 499 reward: 0.0\n",
      "Episode 509 reward: 0.0\n",
      "Episode 519 reward: 0.0\n",
      "Episode 529 reward: 0.0\n",
      "Episode 539 reward: 0.1\n",
      "Episode 549 reward: 0.0\n",
      "Episode 559 reward: 0.0\n",
      "Episode 569 reward: 0.1\n",
      "Episode 579 reward: 0.0\n",
      "Episode 589 reward: 0.0\n",
      "Episode 599 reward: 0.2\n",
      "Episode 609 reward: 0.1\n",
      "Episode 619 reward: 0.0\n",
      "Episode 629 reward: 0.0\n",
      "Episode 639 reward: 0.1\n",
      "Episode 649 reward: 0.1\n",
      "Episode 659 reward: 0.2\n",
      "Episode 669 reward: 0.1\n",
      "Episode 679 reward: 0.0\n",
      "Episode 689 reward: 0.1\n",
      "Episode 699 reward: 0.0\n",
      "Episode 709 reward: 0.0\n",
      "Episode 719 reward: 0.1\n",
      "Episode 729 reward: 0.0\n",
      "Episode 739 reward: 0.1\n",
      "Episode 749 reward: 0.0\n",
      "Episode 759 reward: 0.0\n",
      "Episode 769 reward: 0.1\n",
      "Episode 779 reward: 0.1\n",
      "Episode 789 reward: 0.3\n",
      "Episode 799 reward: 0.4\n",
      "Episode 809 reward: 0.5\n",
      "Episode 819 reward: 0.2\n",
      "Episode 829 reward: 0.3\n",
      "Episode 839 reward: 0.5\n",
      "Episode 849 reward: 0.3\n",
      "Episode 859 reward: 0.3\n",
      "Episode 869 reward: 0.1\n",
      "Episode 879 reward: 0.4\n",
      "Episode 889 reward: 0.1\n",
      "Episode 899 reward: 0.3\n",
      "Episode 909 reward: 0.2\n",
      "Episode 919 reward: 0.2\n",
      "Episode 929 reward: 0.2\n",
      "Episode 939 reward: 0.6\n",
      "Episode 949 reward: 0.5\n",
      "Episode 959 reward: 0.1\n",
      "Episode 969 reward: 0.5\n",
      "Episode 979 reward: 0.2\n",
      "Episode 989 reward: 0.6\n",
      "Episode 999 reward: 0.8\n",
      "Episode 1009 reward: 0.7\n",
      "Episode 1019 reward: 0.7\n",
      "Episode 1029 reward: 0.5\n",
      "Episode 1039 reward: 0.6\n",
      "Episode 1049 reward: 0.5\n",
      "Episode 1059 reward: 0.5\n",
      "Episode 1069 reward: 0.4\n",
      "Episode 1079 reward: 0.4\n",
      "Episode 1089 reward: 0.5\n",
      "Episode 1099 reward: 0.4\n",
      "Episode 1109 reward: 0.3\n",
      "Episode 1119 reward: 0.5\n",
      "Episode 1129 reward: 0.6\n",
      "Episode 1139 reward: 0.6\n",
      "Episode 1149 reward: 0.5\n",
      "Episode 1159 reward: 0.5\n",
      "Episode 1169 reward: 0.5\n",
      "Episode 1179 reward: 0.3\n",
      "Episode 1189 reward: 0.5\n",
      "Episode 1199 reward: 0.6\n",
      "Episode 1209 reward: 0.7\n",
      "Episode 1219 reward: 0.9\n",
      "Episode 1229 reward: 0.4\n",
      "Episode 1239 reward: 0.6\n",
      "Episode 1249 reward: 0.6\n",
      "Episode 1259 reward: 0.6\n",
      "Episode 1269 reward: 0.3\n",
      "Episode 1279 reward: 0.6\n",
      "Episode 1289 reward: 0.7\n",
      "Episode 1299 reward: 0.4\n",
      "Episode 1309 reward: 0.7\n",
      "Episode 1319 reward: 0.9\n",
      "Episode 1329 reward: 0.5\n",
      "Episode 1339 reward: 0.7\n",
      "Episode 1349 reward: 0.5\n",
      "Episode 1359 reward: 0.7\n",
      "Episode 1369 reward: 0.7\n",
      "Episode 1379 reward: 0.4\n",
      "Episode 1389 reward: 0.8\n",
      "Episode 1399 reward: 0.5\n",
      "Episode 1409 reward: 0.5\n",
      "Episode 1419 reward: 0.6\n",
      "Episode 1429 reward: 0.7\n",
      "Episode 1439 reward: 0.6\n",
      "Episode 1449 reward: 0.5\n",
      "Episode 1459 reward: 0.9\n",
      "Episode 1469 reward: 0.6\n",
      "Episode 1479 reward: 0.5\n",
      "Episode 1489 reward: 0.7\n",
      "Episode 1499 reward: 0.6\n",
      "Episode 1509 reward: 0.8\n",
      "Episode 1519 reward: 0.5\n",
      "Episode 1529 reward: 0.6\n",
      "Episode 1539 reward: 0.5\n",
      "Episode 1549 reward: 0.3\n",
      "Episode 1559 reward: 0.2\n",
      "Episode 1569 reward: 0.4\n",
      "Episode 1579 reward: 0.5\n",
      "Episode 1589 reward: 0.7\n",
      "Episode 1599 reward: 0.8\n",
      "Episode 1609 reward: 0.4\n",
      "Episode 1619 reward: 0.2\n",
      "Episode 1629 reward: 0.7\n",
      "Episode 1639 reward: 0.7\n",
      "Episode 1649 reward: 0.6\n",
      "Episode 1659 reward: 0.7\n",
      "Episode 1669 reward: 0.9\n",
      "Episode 1679 reward: 0.6\n",
      "Episode 1689 reward: 0.6\n",
      "Episode 1699 reward: 0.6\n",
      "Episode 1709 reward: 0.7\n",
      "Episode 1719 reward: 0.9\n",
      "Episode 1729 reward: 0.7\n",
      "Episode 1739 reward: 0.5\n",
      "Episode 1749 reward: 0.4\n",
      "Episode 1759 reward: 0.8\n",
      "Episode 1769 reward: 0.7\n",
      "Episode 1779 reward: 0.4\n",
      "Episode 1789 reward: 0.4\n",
      "Episode 1799 reward: 0.5\n",
      "Episode 1809 reward: 0.7\n",
      "Episode 1819 reward: 0.5\n",
      "Episode 1829 reward: 0.6\n",
      "Episode 1839 reward: 0.8\n",
      "Episode 1849 reward: 0.7\n",
      "Episode 1859 reward: 0.6\n",
      "Episode 1869 reward: 0.7\n",
      "Episode 1879 reward: 0.7\n",
      "Episode 1889 reward: 0.7\n",
      "Episode 1899 reward: 0.5\n",
      "Episode 1909 reward: 0.9\n",
      "Episode 1919 reward: 0.8\n",
      "Episode 1929 reward: 0.5\n",
      "Episode 1939 reward: 0.6\n",
      "Episode 1949 reward: 0.3\n",
      "Episode 1959 reward: 0.4\n",
      "Episode 1969 reward: 0.4\n",
      "Episode 1979 reward: 0.6\n",
      "Episode 1989 reward: 0.5\n",
      "Episode 1999 reward: 0.6\n",
      "Percent of succesful episodes: 0.339%\n"
     ]
    }
   ],
   "source": [
    "init = tf.global_variables_initializer()\n",
    "\n",
    "# Set learning parameters\n",
    "#discounted factor\n",
    "y = .99\n",
    "#chance of random action\n",
    "e = 0.1\n",
    "num_episodes = 2000#2000\n",
    "#create lists to contain total rewards and steps per episode\n",
    "jList = []\n",
    "rList = []\n",
    "with tf.Session() as sess:\n",
    "    sess.run(init)\n",
    "    for i in range(num_episodes):\n",
    "        #Reset environment and get first new observation\n",
    "        s = env.reset()\n",
    "        #Total reward in one episode\n",
    "        rAll = 0\n",
    "        d = False\n",
    "        j = 0\n",
    "        #The Q-Network\n",
    "        while j < 99:#99:\n",
    "            j+=1\n",
    "            \n",
    "            ###############################################################################\n",
    "            # TODO: Implement the Q-network approach.                                     #\n",
    "            # You will need to do the following:                                          #\n",
    "            # (1) Choose an action by greedily (with e chance of random action, e=0.1)    # \n",
    "            #     from the Q-network                                                      #\n",
    "            # (2) Get new state s1, reward r and done d from environment                  #\n",
    "            # (3) Obtain the Q' values by feeding the new state through our network       # \n",
    "            # (4) Obtain maxQ' and set our target value for chosen action.                #\n",
    "            # (5) Train our network using target and predicted Q values                   #\n",
    "            # (6) Cumulate the total reward rAll                                          #\n",
    "            # (7) Update observation s                                                    #\n",
    "            # Note: In (1) we need to feed a one-hot vector encoding the state space to   # \n",
    "            #       our network. The environment represents the position in the grid-     #\n",
    "            #       world as a number between 0 and 15, e.g. if s=11, the one-hot vector  #\n",
    "            #       (here is inputs1) should be                                           #\n",
    "            #       [[ 0.  0.  0.  0.  0.  0.  0.  0.  0.  0.  0.  1.  0.  0.  0.  0.]]   #\n",
    "            ###############################################################################\n",
    "            #encode state s and next state s'\n",
    "            encoded_input = np.identity(env.observation_space.n)[s:s+1]#tf.one_hot([s,s+1],env.observation_space.n)#indice for s and s', depth = 16\n",
    "            #(1)Choose an action by greedily\n",
    "            random_action = env.action_space.sample()\n",
    "            #greedy_actions[0]: a to maxQ(s,a), greedy_actions[1]: a' to maxQ(s',a')\n",
    "            greedy_action, allQ = sess.run([predict, Qout], feed_dict = {inputs1:encoded_input})#the Q and optimal action for this state\n",
    "            if np.random.rand(1) < e:\n",
    "                a = random_action\n",
    "            else:\n",
    "                a = greedy_action[0]\n",
    "                            \n",
    "            #(2)Get new state s1, reward r and done d from environment\n",
    "            s1, r, d, _ = env.step(a)\n",
    "            \n",
    "            #(3)Obtain the Q' values by feeding the new state through our network\n",
    "            encoded_next_state = np.identity(env.observation_space.n)[s1:s1+1]#tf.one_hot(s1,env.observation_space.n)\n",
    "            predict_Q = sess.run(Qout, feed_dict = {inputs1:encoded_next_state})#1x4\n",
    "            \n",
    "            #(4) Obtain maxQ' and set our target value for chosen action.\n",
    "            #chosen_action = tf.argmax(predict_Q,1)\n",
    "            maxQ_next = np.max(predict_Q)#maxQ(s', a'), in NN, this will be estimated by NN\n",
    "            target_Q = allQ # nextQ must be 1x4\n",
    "            target_Q[0,a] = r + y*maxQ_next # Q*(s,a), in NN, this will be estimated by NN directly\n",
    "            \n",
    "            #(5) Train our network using target and predicted Q values\n",
    "            newModel,newW = sess.run([updateModel, W], feed_dict = {inputs1:encoded_input, nextQ:target_Q})\n",
    "            \n",
    "            #(6) Cumulate the total reward rAll\n",
    "            rAll += r\n",
    "            \n",
    "            #(7) Update observation s\n",
    "            s = s1\n",
    "            \n",
    "            ##############################################################################\n",
    "            #                             END OF YOUR CODE                               #\n",
    "            ##############################################################################\n",
    "            \n",
    "            if d == True:\n",
    "                #Reduce chance of random action as we train the model.\n",
    "                e = 1./((i/50) + 10)\n",
    "                break\n",
    "        jList.append(j)\n",
    "        rList.append(rAll)\n",
    "        if len(rList) % 10 == 0:\n",
    "            print(\"Episode\",i,\"reward:\",np.mean(rList[-10:]))\n",
    "print(\"Percent of succesful episodes: \" + str(sum(rList)/num_episodes) + \"%\")"
   ]
  },
  {
   "cell_type": "markdown",
   "metadata": {},
   "source": [
    "### Some statistics on network performance"
   ]
  },
  {
   "cell_type": "markdown",
   "metadata": {},
   "source": [
    "We can see that the network beings to consistly reach the goal around the 750 episode mark."
   ]
  },
  {
   "cell_type": "code",
   "execution_count": 12,
   "metadata": {},
   "outputs": [
    {
     "data": {
      "text/plain": [
       "[<matplotlib.lines.Line2D at 0x203069b9f60>]"
      ]
     },
     "execution_count": 12,
     "metadata": {},
     "output_type": "execute_result"
    },
    {
     "data": {
      "image/png": "[encoded data removed]",
      "text/plain": [
       "<matplotlib.figure.Figure at 0x203433b9a20>"
      ]
     },
     "metadata": {},
     "output_type": "display_data"
    }
   ],
   "source": [
    "plt.plot(rList)"
   ]
  },
  {
   "cell_type": "markdown",
   "metadata": {},
   "source": [
    "It also begins to progress through the environment for longer than chance around the 750 mark as well."
   ]
  },
  {
   "cell_type": "code",
   "execution_count": 13,
   "metadata": {},
   "outputs": [
    {
     "data": {
      "text/plain": [
       "[<matplotlib.lines.Line2D at 0x20307eabd68>]"
      ]
     },
     "execution_count": 13,
     "metadata": {},
     "output_type": "execute_result"
    },
    {
     "data": {
      "image/png": "[encoded data removed]",
      "text/plain": [
       "<matplotlib.figure.Figure at 0x20306a20828>"
      ]
     },
     "metadata": {},
     "output_type": "display_data"
    }
   ],
   "source": [
    "plt.plot(jList)"
   ]
  },
  {
   "cell_type": "markdown",
   "metadata": {},
   "source": [
    "While the network learns to solve the FrozenLake problem, it turns out it doesn’t do so quite as efficiently as the Q-Table. While neural networks allow for greater flexibility, they do so at the cost of stability when it comes to Q-Learning. There are a number of possible extensions to our simple Q-Network which allow for greater performance and more robust learning. we will be exploring those additions in Exercise 2."
   ]
  },
  {
   "cell_type": "code",
   "execution_count": null,
   "metadata": {
    "collapsed": true
   },
   "outputs": [],
   "source": []
  }
 ],
 "metadata": {
  "anaconda-cloud": {},
  "kernelspec": {
   "display_name": "Python 3",
   "language": "python",
   "name": "python3"
  },
  "language_info": {
   "codemirror_mode": {
    "name": "ipython",
    "version": 3
   },
   "file_extension": ".py",
   "mimetype": "text/x-python",
   "name": "python",
   "nbconvert_exporter": "python",
   "pygments_lexer": "ipython3",
   "version": "3.5.3"
  }
 },
 "nbformat": 4,
 "nbformat_minor": 1
}
